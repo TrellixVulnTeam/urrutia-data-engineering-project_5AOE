{
 "cells": [
  {
   "cell_type": "code",
   "execution_count": 1,
   "metadata": {},
   "outputs": [],
   "source": [
    "import twint"
   ]
  },
  {
   "cell_type": "code",
   "execution_count": 3,
   "metadata": {},
   "outputs": [
    {
     "ename": "NameError",
     "evalue": "name 'start_date' is not defined",
     "output_type": "error",
     "traceback": [
      "\u001b[0;31m---------------------------------------------------------------------------\u001b[0m",
      "\u001b[0;31mNameError\u001b[0m                                 Traceback (most recent call last)",
      "\u001b[1;32m/Users/jpurrutia/Projects/urrutia-data-engineering-project/testing.ipynb Cell 2'\u001b[0m in \u001b[0;36m<cell line: 6>\u001b[0;34m()\u001b[0m\n\u001b[1;32m      <a href='vscode-notebook-cell:/Users/jpurrutia/Projects/urrutia-data-engineering-project/testing.ipynb#ch0000001?line=2'>3</a>\u001b[0m search_term \u001b[39m=\u001b[39m \u001b[39m\"\u001b[39m\u001b[39mcrypto\u001b[39m\u001b[39m\"\u001b[39m\n\u001b[1;32m      <a href='vscode-notebook-cell:/Users/jpurrutia/Projects/urrutia-data-engineering-project/testing.ipynb#ch0000001?line=4'>5</a>\u001b[0m c\u001b[39m.\u001b[39mSearch \u001b[39m=\u001b[39m search_term\n\u001b[0;32m----> <a href='vscode-notebook-cell:/Users/jpurrutia/Projects/urrutia-data-engineering-project/testing.ipynb#ch0000001?line=5'>6</a>\u001b[0m c\u001b[39m.\u001b[39mSince \u001b[39m=\u001b[39m start_date\u001b[39m.\u001b[39mstrfim(\u001b[39m'\u001b[39m\u001b[39m%\u001b[39m\u001b[39mY-\u001b[39m\u001b[39m%\u001b[39m\u001b[39mm-\u001b[39m\u001b[39m%d\u001b[39;00m\u001b[39m'\u001b[39m)\n\u001b[1;32m      <a href='vscode-notebook-cell:/Users/jpurrutia/Projects/urrutia-data-engineering-project/testing.ipynb#ch0000001?line=6'>7</a>\u001b[0m c\u001b[39m.\u001b[39mUntil \u001b[39m=\u001b[39m end_date\u001b[39m.\u001b[39mstrftime(\u001b[39m'\u001b[39m\u001b[39m%\u001b[39m\u001b[39mY-\u001b[39m\u001b[39m%\u001b[39m\u001b[39mm-\u001b[39m\u001b[39m%d\u001b[39;00m\u001b[39m'\u001b[39m)\n\u001b[1;32m      <a href='vscode-notebook-cell:/Users/jpurrutia/Projects/urrutia-data-engineering-project/testing.ipynb#ch0000001?line=7'>8</a>\u001b[0m c\u001b[39m.\u001b[39mLang \u001b[39m=\u001b[39m \u001b[39m\"\u001b[39m\u001b[39men\u001b[39m\u001b[39m\"\u001b[39m\n",
      "\u001b[0;31mNameError\u001b[0m: name 'start_date' is not defined"
     ]
    }
   ],
   "source": [
    "c = twint.Config()\n",
    "\n",
    "search_term = \"crypto\"\n",
    "\n",
    "c.Search = search_term\n",
    "\n",
    "c.Since = '2020-01-01'\n",
    "c.Until = '2020-01-02'\n",
    "\n",
    "#c.Since = start_date.strfime('%Y-%m-%d')\n",
    "#c.Until = end_date.strftime('%Y-%m-%d')\n",
    "c.Lang = \"en\"\n",
    "c.Verified = True\n",
    "c.Pandas = True\n",
    "c.Limit = 1000\n",
    "c.Stats = False\n",
    "c.Hide_output = True\n",
    "\n",
    "twint.run.Search(c)\n",
    "\n",
    "tweets_df = twint.storage.panda.Tweets_df\n",
    "\n",
    "\n",
    "#month = start_date.strftime(\"%b\")\n",
    "\n",
    "#filename = f\"tweet-{searchTerm}-{month}\""
   ]
  },
  {
   "cell_type": "code",
   "execution_count": null,
   "metadata": {},
   "outputs": [],
   "source": []
  }
 ],
 "metadata": {
  "interpreter": {
   "hash": "bfa9e43bbba431df1ccea2d66c12f4ba1a6d7395acb08f3906eaa4d0f8b95af3"
  },
  "kernelspec": {
   "display_name": "Python 3.8.7 ('env': venv)",
   "language": "python",
   "name": "python3"
  },
  "language_info": {
   "codemirror_mode": {
    "name": "ipython",
    "version": 3
   },
   "file_extension": ".py",
   "mimetype": "text/x-python",
   "name": "python",
   "nbconvert_exporter": "python",
   "pygments_lexer": "ipython3",
   "version": "3.8.7"
  },
  "orig_nbformat": 4
 },
 "nbformat": 4,
 "nbformat_minor": 2
}
